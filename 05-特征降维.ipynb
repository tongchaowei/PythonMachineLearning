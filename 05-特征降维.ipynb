{
 "cells": [
  {
   "cell_type": "markdown",
   "metadata": {},
   "source": [
    "# 特征降维"
   ]
  },
  {
   "cell_type": "markdown",
   "metadata": {},
   "source": [
    "降维是指在某些限定条件下，降低随机变量(特征)个数，得到一组“不相关”主变量的过程"
   ]
  },
  {
   "cell_type": "markdown",
   "metadata": {},
   "source": [
    ">正是因为在进行训练的时候，我们都是使用特征进行学习。如果特征本身存在问题或者特征之间相关性较强，对于算法学习预测会影响较大"
   ]
  },
  {
   "cell_type": "markdown",
   "metadata": {},
   "source": [
    "降维的两种方式:\n",
    "- 特征选择\n",
    "- 主成分分析（可以理解一种特征提取的方式）"
   ]
  },
  {
   "cell_type": "markdown",
   "metadata": {},
   "source": [
    "## 特征选择"
   ]
  },
  {
   "cell_type": "markdown",
   "metadata": {},
   "source": [
    "数据中包含冗余或无关变量（或称特征、属性、指标等），旨在从原有特征中找出主要特征。"
   ]
  },
  {
   "cell_type": "markdown",
   "metadata": {},
   "source": [
    "### 方法"
   ]
  },
  {
   "cell_type": "markdown",
   "metadata": {},
   "source": [
    "- Filter(过滤式)：主要探究特征本身特点、特征与特征和目标值之间关联\n",
    "  - 方差选择法：低方差特征过滤\n",
    "  - 相关系数 - 特征之间的相关程度\n",
    "- Embedded (嵌入式)：算法自动选择特征（特征与目标值之间的关联）\n",
    "  - 决策树:信息熵、信息增益\n",
    "  - 正则化：L1、L2\n",
    "  - 深度学习：卷积等"
   ]
  },
  {
   "cell_type": "markdown",
   "metadata": {},
   "source": [
    "### Filter(过滤式)"
   ]
  },
  {
   "cell_type": "markdown",
   "metadata": {},
   "source": [
    "#### 低方差特征过滤"
   ]
  },
  {
   "cell_type": "markdown",
   "metadata": {},
   "source": [
    "- 特征方差小：某个特征大多样本的值比较相近\n",
    "- 特征方差大：某个特征很多样本的值都有差别"
   ]
  },
  {
   "cell_type": "markdown",
   "metadata": {},
   "source": [
    "sklearn.feature_selection.VarianceThreshold(threshold = 0.0)\n",
    "- 方差低于 threshold 的特征删除"
   ]
  },
  {
   "cell_type": "markdown",
   "metadata": {},
   "source": [
    "- 删除所有低方差特征\n",
    "- Variance.fit_transform(X)\n",
    "  - X:numpy array格式的数据[n_samples,n_features]\n",
    "  - 返回值：训练集差异低于threshold的特征将被删除。默认值是保留所有非零方差特征，即删除所有样本中具有相同值的特征。"
   ]
  }
 ],
 "metadata": {
  "language_info": {
   "name": "python"
  },
  "orig_nbformat": 4
 },
 "nbformat": 4,
 "nbformat_minor": 2
}
