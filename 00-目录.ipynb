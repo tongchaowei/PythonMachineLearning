{
 "cells": [
  {
   "cell_type": "markdown",
   "metadata": {},
   "source": [
    "# 机器学习--目录"
   ]
  },
  {
   "cell_type": "markdown",
   "metadata": {},
   "source": [
    "[01-sklearn安装](./01-sklearn%E5%AE%89%E8%A3%85.html)"
   ]
  },
  {
   "cell_type": "markdown",
   "metadata": {},
   "source": [
    "[02-sklearn数据集的使用](./02-sklearn%E6%95%B0%E6%8D%AE%E9%9B%86%E7%9A%84%E4%BD%BF%E7%94%A8.html)"
   ]
  },
  {
   "cell_type": "markdown",
   "metadata": {},
   "source": [
    "[03-特征工程 特征提取](./03-%E7%89%B9%E5%BE%81%E5%B7%A5%E7%A8%8B%20%E7%89%B9%E5%BE%81%E6%8F%90%E5%8F%96.html)"
   ]
  },
  {
   "cell_type": "markdown",
   "metadata": {},
   "source": [
    "[04-特征预处理](./04-%E7%89%B9%E5%BE%81%E9%A2%84%E5%A4%84%E7%90%86.html)"
   ]
  }
 ],
 "metadata": {
  "kernelspec": {
   "display_name": "Python 3.10.0 64-bit",
   "language": "python",
   "name": "python3"
  },
  "language_info": {
   "name": "python",
   "version": "3.10.0"
  },
  "orig_nbformat": 4,
  "vscode": {
   "interpreter": {
    "hash": "00e0042e4c3c50b48daa1eee0ce7eca131318d2434978781c45622db333e467e"
   }
  }
 },
 "nbformat": 4,
 "nbformat_minor": 2
}
